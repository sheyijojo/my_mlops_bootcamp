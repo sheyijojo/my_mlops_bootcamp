{
 "cells": [
  {
   "cell_type": "code",
   "execution_count": 2,
   "metadata": {},
   "outputs": [
    {
     "name": "stdout",
     "output_type": "stream",
     "text": [
      "--2024-05-29 20:17:36--  https://d37ci6vzurychx.cloudfront.net/trip-data/green_tripdata_2023-03.parquet\n",
      "Resolving d37ci6vzurychx.cloudfront.net (d37ci6vzurychx.cloudfront.net)... 52.85.39.97, 52.85.39.65, 52.85.39.153, ...\n",
      "Connecting to d37ci6vzurychx.cloudfront.net (d37ci6vzurychx.cloudfront.net)|52.85.39.97|:443... connected.\n",
      "HTTP request sent, awaiting response... 200 OK\n",
      "Length: 1730999 (1.7M) [binary/octet-stream]\n",
      "Saving to: ‘green_tripdata_2023-03.parquet’\n",
      "\n",
      "green_tripdata_2023 100%[===================>]   1.65M  --.-KB/s    in 0.1s    \n",
      "\n",
      "2024-05-29 20:17:37 (13.2 MB/s) - ‘green_tripdata_2023-03.parquet’ saved [1730999/1730999]\n",
      "\n"
     ]
    }
   ],
   "source": [
    "#!wget https://d37ci6vzurychx.cloudfront.net/trip-data/green_tripdata_2023-01.parquet  \n",
    "#!wget https://d37ci6vzurychx.cloudfront.net/trip-data/green_tripdata_2023-02.parquet  \n",
    "\n",
    "!wget https://d37ci6vzurychx.cloudfront.net/trip-data/green_tripdata_2023-03.parquet  "
   ]
  },
  {
   "cell_type": "code",
   "execution_count": 1,
   "metadata": {},
   "outputs": [
    {
     "name": "stdout",
     "output_type": "stream",
     "text": [
      "Python 3.9.12\n"
     ]
    }
   ],
   "source": [
    "!python -V"
   ]
  },
  {
   "cell_type": "code",
   "execution_count": 1,
   "metadata": {},
   "outputs": [],
   "source": [
    "import pandas as pd"
   ]
  },
  {
   "cell_type": "code",
   "execution_count": 2,
   "metadata": {},
   "outputs": [],
   "source": [
    "import pickle"
   ]
  },
  {
   "cell_type": "code",
   "execution_count": 4,
   "metadata": {},
   "outputs": [],
   "source": [
    "import seaborn as sns\n",
    "import matplotlib.pyplot as plt"
   ]
  },
  {
   "cell_type": "code",
   "execution_count": 5,
   "metadata": {},
   "outputs": [],
   "source": [
    "from sklearn.feature_extraction import DictVectorizer # Machine Learning\n",
    "from sklearn.linear_model import LinearRegression # Machine Learning\n",
    "from sklearn.linear_model import Lasso # Regularization\n",
    "from sklearn.linear_model import Ridge # Regularization\n",
    "from sklearn.preprocessing import OneHotEncoder\n",
    "from sklearn.metrics import mean_squared_error\n"
   ]
  },
  {
   "cell_type": "code",
   "execution_count": 6,
   "metadata": {},
   "outputs": [],
   "source": [
    "import mlflow"
   ]
  },
  {
   "cell_type": "code",
   "execution_count": 21,
   "metadata": {},
   "outputs": [
    {
     "name": "stdout",
     "output_type": "stream",
     "text": [
      "[2024-05-30 02:19:27 +0000] [21441] [INFO] Starting gunicorn 22.0.0\n",
      "[2024-05-30 02:19:27 +0000] [21441] [INFO] Listening at: http://127.0.0.1:5000 (21441)\n",
      "[2024-05-30 02:19:27 +0000] [21441] [INFO] Using worker: sync\n",
      "[2024-05-30 02:19:27 +0000] [21442] [INFO] Booting worker with pid: 21442\n",
      "[2024-05-30 02:19:27 +0000] [21443] [INFO] Booting worker with pid: 21443\n",
      "[2024-05-30 02:19:27 +0000] [21444] [INFO] Booting worker with pid: 21444\n",
      "[2024-05-30 02:19:27 +0000] [21445] [INFO] Booting worker with pid: 21445\n",
      "^C\n",
      "[2024-05-30 02:23:26 +0000] [21441] [INFO] Handling signal: int\n",
      "[2024-05-30 02:23:26 +0000] [21443] [INFO] Worker exiting (pid: 21443)\n",
      "[2024-05-30 02:23:26 +0000] [21444] [INFO] Worker exiting (pid: 21444)\n",
      "[2024-05-30 02:23:26 +0000] [21445] [INFO] Worker exiting (pid: 21445)\n",
      "[2024-05-30 02:23:26 +0000] [21442] [INFO] Worker exiting (pid: 21442)\n"
     ]
    }
   ],
   "source": [
    "## congifure backend to prevent fails, just for experiments\n",
    "!mlflow ui --backend-store-uri sqlite:///myflow.db "
   ]
  },
  {
   "cell_type": "markdown",
   "metadata": {},
   "source": [
    "## check if experiment exist and if it doesnt, create it"
   ]
  },
  {
   "cell_type": "markdown",
   "metadata": {},
   "source": [
    "## Debugging\n",
    "https://github.com/Significant-Gravitas/AutoGPT/discussions/4116"
   ]
  },
  {
   "cell_type": "code",
   "execution_count": 6,
   "metadata": {},
   "outputs": [
    {
     "data": {
      "text/plain": [
       "<Experiment: artifact_location='/workspaces/my_mlops_bootcamp/week-02/mlruns/1', creation_time=1717099382173, experiment_id='1', last_update_time=1717099382173, lifecycle_stage='active', name='001-experiment', tags={}>"
      ]
     },
     "execution_count": 6,
     "metadata": {},
     "output_type": "execute_result"
    }
   ],
   "source": [
    "## run mloflow with a backend configured locally\n",
    "mlflow.set_tracking_uri(\"sqlite:///myflow.db\")\n",
    "mlflow.set_experiment(\"001-experiment\")"
   ]
  },
  {
   "cell_type": "code",
   "execution_count": 3,
   "metadata": {},
   "outputs": [],
   "source": [
    "import os\n",
    "import pickle\n",
    "import click\n",
    "import mlflow\n",
    "\n",
    "from sklearn.ensemble import RandomForestRegressor\n",
    "from sklearn.metrics import mean_squared_error\n",
    "from mlflow.sklearn import autolog"
   ]
  }
 ],
 "metadata": {
  "kernelspec": {
   "display_name": "Python 3",
   "language": "python",
   "name": "python3"
  },
  "language_info": {
   "codemirror_mode": {
    "name": "ipython",
    "version": 3
   },
   "file_extension": ".py",
   "mimetype": "text/x-python",
   "name": "python",
   "nbconvert_exporter": "python",
   "pygments_lexer": "ipython3",
   "version": "3.9.12"
  }
 },
 "nbformat": 4,
 "nbformat_minor": 2
}
